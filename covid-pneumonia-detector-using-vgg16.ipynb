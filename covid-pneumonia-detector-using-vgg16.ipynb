{
 "cells": [
  {
   "cell_type": "markdown",
   "id": "8579c870",
   "metadata": {
    "papermill": {
     "duration": 0.047535,
     "end_time": "2022-01-11T14:27:49.350848",
     "exception": false,
     "start_time": "2022-01-11T14:27:49.303313",
     "status": "completed"
    },
    "tags": []
   },
   "source": [
    "![](https://policyoptions.irpp.org/wp-content/uploads/sites/2/2020/07/Facebook-WHO%E2%80%99s-COVID-19-Technology-Access-Pool-deserves-Canada%E2%80%99s-support.jpg)"
   ]
  },
  {
   "cell_type": "markdown",
   "id": "c97fa2c9",
   "metadata": {
    "papermill": {
     "duration": 0.030663,
     "end_time": "2022-01-11T14:27:49.424548",
     "exception": false,
     "start_time": "2022-01-11T14:27:49.393885",
     "status": "completed"
    },
    "tags": []
   },
   "source": [
    "## Importing Required Libraries"
   ]
  },
  {
   "cell_type": "code",
   "execution_count": 1,
   "id": "9f9bd6cc",
   "metadata": {
    "execution": {
     "iopub.execute_input": "2022-01-11T14:27:49.487003Z",
     "iopub.status.busy": "2022-01-11T14:27:49.485810Z",
     "iopub.status.idle": "2022-01-11T14:27:56.397594Z",
     "shell.execute_reply": "2022-01-11T14:27:56.396588Z",
     "shell.execute_reply.started": "2022-01-11T04:54:52.167135Z"
    },
    "papermill": {
     "duration": 6.948284,
     "end_time": "2022-01-11T14:27:56.397804",
     "exception": false,
     "start_time": "2022-01-11T14:27:49.449520",
     "status": "completed"
    },
    "tags": []
   },
   "outputs": [],
   "source": [
    "import numpy as np\n",
    "import pandas as pd\n",
    "\n",
    "import matplotlib.pyplot as plt\n",
    "import seaborn as sns\n",
    "sns.set_style('darkgrid')\n",
    "\n",
    "import os\n",
    "import random\n",
    "import keras\n",
    "\n",
    "import warnings\n",
    "warnings.filterwarnings('ignore')\n",
    "\n",
    "from sklearn.model_selection import train_test_split\n",
    "\n",
    "from keras.preprocessing.image import load_img\n",
    "from keras.preprocessing.image import img_to_array\n",
    "from keras.preprocessing.image import ImageDataGenerator\n",
    "\n",
    "from keras.layers import Dense, Flatten, AveragePooling2D, Dropout\n",
    "from tensorflow.keras.optimizers import Adam\n",
    "from keras.applications.vgg16 import VGG16\n",
    "from keras.models import Model"
   ]
  },
  {
   "cell_type": "markdown",
   "id": "570890e9",
   "metadata": {
    "papermill": {
     "duration": 0.023772,
     "end_time": "2022-01-11T14:27:56.445984",
     "exception": false,
     "start_time": "2022-01-11T14:27:56.422212",
     "status": "completed"
    },
    "tags": []
   },
   "source": [
    "## Extracting Files"
   ]
  },
  {
   "cell_type": "code",
   "execution_count": 2,
   "id": "93b7085b",
   "metadata": {
    "execution": {
     "iopub.execute_input": "2022-01-11T14:27:56.500972Z",
     "iopub.status.busy": "2022-01-11T14:27:56.499839Z",
     "iopub.status.idle": "2022-01-11T14:27:56.502378Z",
     "shell.execute_reply": "2022-01-11T14:27:56.502878Z",
     "shell.execute_reply.started": "2022-01-11T04:54:58.925813Z"
    },
    "papermill": {
     "duration": 0.032006,
     "end_time": "2022-01-11T14:27:56.503018",
     "exception": false,
     "start_time": "2022-01-11T14:27:56.471012",
     "status": "completed"
    },
    "tags": []
   },
   "outputs": [],
   "source": [
    "c = '../input/covid19-radiography-database/COVID-19_Radiography_Dataset/COVID'\n",
    "n = '../input/covid19-radiography-database/COVID-19_Radiography_Dataset/Normal'\n",
    "p = '../input/covid19-radiography-database/COVID-19_Radiography_Dataset/Viral Pneumonia'"
   ]
  },
  {
   "cell_type": "code",
   "execution_count": 3,
   "id": "06625019",
   "metadata": {
    "execution": {
     "iopub.execute_input": "2022-01-11T14:27:56.557654Z",
     "iopub.status.busy": "2022-01-11T14:27:56.557032Z",
     "iopub.status.idle": "2022-01-11T14:27:57.331579Z",
     "shell.execute_reply": "2022-01-11T14:27:57.332440Z",
     "shell.execute_reply.started": "2022-01-11T04:54:58.935024Z"
    },
    "papermill": {
     "duration": 0.804938,
     "end_time": "2022-01-11T14:27:57.332658",
     "exception": false,
     "start_time": "2022-01-11T14:27:56.527720",
     "status": "completed"
    },
    "tags": []
   },
   "outputs": [],
   "source": [
    "random.seed(42)\n",
    "filenames = os.listdir(c) + random.sample(os.listdir(n), 5000) + os.listdir(p)"
   ]
  },
  {
   "cell_type": "markdown",
   "id": "e804ed6d",
   "metadata": {
    "papermill": {
     "duration": 0.024439,
     "end_time": "2022-01-11T14:27:57.382294",
     "exception": false,
     "start_time": "2022-01-11T14:27:57.357855",
     "status": "completed"
    },
    "tags": []
   },
   "source": [
    "### Classes\n",
    "* 0 -> Normal\n",
    "* 1 -> Viral Pneumonia\n",
    "* 2 -> COVID"
   ]
  },
  {
   "cell_type": "code",
   "execution_count": 4,
   "id": "b6b717c4",
   "metadata": {
    "execution": {
     "iopub.execute_input": "2022-01-11T14:27:57.445232Z",
     "iopub.status.busy": "2022-01-11T14:27:57.444224Z",
     "iopub.status.idle": "2022-01-11T14:27:57.447377Z",
     "shell.execute_reply": "2022-01-11T14:27:57.446623Z",
     "shell.execute_reply.started": "2022-01-09T10:56:15.93716Z"
    },
    "papermill": {
     "duration": 0.041056,
     "end_time": "2022-01-11T14:27:57.447543",
     "exception": false,
     "start_time": "2022-01-11T14:27:57.406487",
     "status": "completed"
    },
    "tags": []
   },
   "outputs": [],
   "source": [
    "categories = []\n",
    "for filename in filenames:\n",
    "    category = filename.split('-')[0]\n",
    "    if category == 'COVID':\n",
    "        categories.append(str(2))\n",
    "    elif category == 'Viral Pneumonia':\n",
    "        categories.append(str(1))\n",
    "    else:\n",
    "        categories.append(str(0))"
   ]
  },
  {
   "cell_type": "markdown",
   "id": "95e48c66",
   "metadata": {
    "papermill": {
     "duration": 0.023661,
     "end_time": "2022-01-11T14:27:57.496572",
     "exception": false,
     "start_time": "2022-01-11T14:27:57.472911",
     "status": "completed"
    },
    "tags": []
   },
   "source": [
    "## Converting to Dataframe"
   ]
  },
  {
   "cell_type": "code",
   "execution_count": 5,
   "id": "73e80e0b",
   "metadata": {
    "execution": {
     "iopub.execute_input": "2022-01-11T14:27:57.564318Z",
     "iopub.status.busy": "2022-01-11T14:27:57.553955Z",
     "iopub.status.idle": "2022-01-11T14:27:57.584874Z",
     "shell.execute_reply": "2022-01-11T14:27:57.585374Z",
     "shell.execute_reply.started": "2022-01-09T10:56:20.986898Z"
    },
    "papermill": {
     "duration": 0.06455,
     "end_time": "2022-01-11T14:27:57.585524",
     "exception": false,
     "start_time": "2022-01-11T14:27:57.520974",
     "status": "completed"
    },
    "tags": []
   },
   "outputs": [],
   "source": [
    "for i in range(len(filenames)):\n",
    "    if 'COVID' in filenames[i]:\n",
    "        filenames[i] = os.path.join(c, filenames[i])\n",
    "    elif 'Viral Pneumonia' in filenames[i]:\n",
    "        filenames[i] = os.path.join(p, filenames[i])\n",
    "    else:\n",
    "        filenames[i] = os.path.join(n, filenames[i])\n",
    "    \n",
    "    \n",
    "df = pd.DataFrame({\n",
    "    'filename': filenames,\n",
    "    'category': categories\n",
    "})"
   ]
  },
  {
   "cell_type": "code",
   "execution_count": 6,
   "id": "bea4823e",
   "metadata": {
    "execution": {
     "iopub.execute_input": "2022-01-11T14:27:57.637873Z",
     "iopub.status.busy": "2022-01-11T14:27:57.636909Z",
     "iopub.status.idle": "2022-01-11T14:27:57.658960Z",
     "shell.execute_reply": "2022-01-11T14:27:57.659440Z",
     "shell.execute_reply.started": "2022-01-05T10:51:09.241079Z"
    },
    "papermill": {
     "duration": 0.048803,
     "end_time": "2022-01-11T14:27:57.659609",
     "exception": false,
     "start_time": "2022-01-11T14:27:57.610806",
     "status": "completed"
    },
    "tags": []
   },
   "outputs": [
    {
     "data": {
      "text/html": [
       "<div>\n",
       "<style scoped>\n",
       "    .dataframe tbody tr th:only-of-type {\n",
       "        vertical-align: middle;\n",
       "    }\n",
       "\n",
       "    .dataframe tbody tr th {\n",
       "        vertical-align: top;\n",
       "    }\n",
       "\n",
       "    .dataframe thead th {\n",
       "        text-align: right;\n",
       "    }\n",
       "</style>\n",
       "<table border=\"1\" class=\"dataframe\">\n",
       "  <thead>\n",
       "    <tr style=\"text-align: right;\">\n",
       "      <th></th>\n",
       "      <th>filename</th>\n",
       "      <th>category</th>\n",
       "    </tr>\n",
       "  </thead>\n",
       "  <tbody>\n",
       "    <tr>\n",
       "      <th>0</th>\n",
       "      <td>../input/covid19-radiography-database/COVID-19...</td>\n",
       "      <td>2</td>\n",
       "    </tr>\n",
       "    <tr>\n",
       "      <th>1</th>\n",
       "      <td>../input/covid19-radiography-database/COVID-19...</td>\n",
       "      <td>2</td>\n",
       "    </tr>\n",
       "    <tr>\n",
       "      <th>2</th>\n",
       "      <td>../input/covid19-radiography-database/COVID-19...</td>\n",
       "      <td>2</td>\n",
       "    </tr>\n",
       "    <tr>\n",
       "      <th>3</th>\n",
       "      <td>../input/covid19-radiography-database/COVID-19...</td>\n",
       "      <td>2</td>\n",
       "    </tr>\n",
       "    <tr>\n",
       "      <th>4</th>\n",
       "      <td>../input/covid19-radiography-database/COVID-19...</td>\n",
       "      <td>2</td>\n",
       "    </tr>\n",
       "  </tbody>\n",
       "</table>\n",
       "</div>"
      ],
      "text/plain": [
       "                                            filename category\n",
       "0  ../input/covid19-radiography-database/COVID-19...        2\n",
       "1  ../input/covid19-radiography-database/COVID-19...        2\n",
       "2  ../input/covid19-radiography-database/COVID-19...        2\n",
       "3  ../input/covid19-radiography-database/COVID-19...        2\n",
       "4  ../input/covid19-radiography-database/COVID-19...        2"
      ]
     },
     "execution_count": 6,
     "metadata": {},
     "output_type": "execute_result"
    }
   ],
   "source": [
    "df.head()"
   ]
  },
  {
   "cell_type": "markdown",
   "id": "fad79f20",
   "metadata": {
    "papermill": {
     "duration": 0.025523,
     "end_time": "2022-01-11T14:27:57.710449",
     "exception": false,
     "start_time": "2022-01-11T14:27:57.684926",
     "status": "completed"
    },
    "tags": []
   },
   "source": [
    "## Exploratory Data Analysis"
   ]
  },
  {
   "cell_type": "code",
   "execution_count": 7,
   "id": "329143cb",
   "metadata": {
    "execution": {
     "iopub.execute_input": "2022-01-11T14:27:57.771573Z",
     "iopub.status.busy": "2022-01-11T14:27:57.770632Z",
     "iopub.status.idle": "2022-01-11T14:27:58.081268Z",
     "shell.execute_reply": "2022-01-11T14:27:58.081823Z",
     "shell.execute_reply.started": "2022-01-05T10:51:09.430056Z"
    },
    "papermill": {
     "duration": 0.346847,
     "end_time": "2022-01-11T14:27:58.081994",
     "exception": false,
     "start_time": "2022-01-11T14:27:57.735147",
     "status": "completed"
    },
    "tags": []
   },
   "outputs": [
    {
     "data": {
      "image/png": "[encoded data removed]",
      "text/plain": [
       "<Figure size 864x216 with 1 Axes>"
      ]
     },
     "metadata": {},
     "output_type": "display_data"
    }
   ],
   "source": [
    "plt.figure(figsize=(12,3))\n",
    "splot = sns.countplot(data = df.sort_values(by='category'), y ='category', palette='cool', saturation=0.9)\n",
    "plt.bar_label(container=splot.containers[0], \n",
    "              labels=['Normal', 'Viral Pneumonia', 'COVID'], \n",
    "              label_type='center', size=15, color='w')\n",
    "plt.show()"
   ]
  },
  {
   "cell_type": "markdown",
   "id": "3df6896f",
   "metadata": {
    "papermill": {
     "duration": 0.026455,
     "end_time": "2022-01-11T14:27:58.136549",
     "exception": false,
     "start_time": "2022-01-11T14:27:58.110094",
     "status": "completed"
    },
    "tags": []
   },
   "source": [
    "## Data Visualization"
   ]
  },
  {
   "cell_type": "code",
   "execution_count": 8,
   "id": "d91c455e",
   "metadata": {
    "execution": {
     "iopub.execute_input": "2022-01-11T14:27:58.194088Z",
     "iopub.status.busy": "2022-01-11T14:27:58.193363Z",
     "iopub.status.idle": "2022-01-11T14:27:58.476443Z",
     "shell.execute_reply": "2022-01-11T14:27:58.475838Z",
     "shell.execute_reply.started": "2022-01-05T10:51:10.389886Z"
    },
    "papermill": {
     "duration": 0.313532,
     "end_time": "2022-01-11T14:27:58.476616",
     "exception": false,
     "start_time": "2022-01-11T14:27:58.163084",
     "status": "completed"
    },
    "tags": []
   },
   "outputs": [
    {
     "data": {
      "image/png": "[encoded data removed]",
      "text/plain": [
       "<Figure size 432x288 with 1 Axes>"
      ]
     },
     "metadata": {},
     "output_type": "display_data"
    }
   ],
   "source": [
    "sample = random.choice(df['filename'])\n",
    "image = load_img(sample)\n",
    "plt.imshow(image)\n",
    "plt.show()"
   ]
  },
  {
   "cell_type": "markdown",
   "id": "6bc2b4b7",
   "metadata": {
    "papermill": {
     "duration": 0.026956,
     "end_time": "2022-01-11T14:27:58.529561",
     "exception": false,
     "start_time": "2022-01-11T14:27:58.502605",
     "status": "completed"
    },
    "tags": []
   },
   "source": [
    "## Splitting Train, Validation & Test Data"
   ]
  },
  {
   "cell_type": "code",
   "execution_count": 9,
   "id": "3494a5f9",
   "metadata": {
    "execution": {
     "iopub.execute_input": "2022-01-11T14:27:58.600004Z",
     "iopub.status.busy": "2022-01-11T14:27:58.599117Z",
     "iopub.status.idle": "2022-01-11T14:27:58.619842Z",
     "shell.execute_reply": "2022-01-11T14:27:58.619265Z",
     "shell.execute_reply.started": "2022-01-05T10:51:38.127328Z"
    },
    "papermill": {
     "duration": 0.062964,
     "end_time": "2022-01-11T14:27:58.619982",
     "exception": false,
     "start_time": "2022-01-11T14:27:58.557018",
     "status": "completed"
    },
    "tags": []
   },
   "outputs": [],
   "source": [
    "train_data, test_valid_data = train_test_split(df, test_size=0.2, random_state = 42, shuffle=True, stratify=df['category'])\n",
    "train_data = train_data.reset_index(drop=True)\n",
    "test_valid_data = test_valid_data.reset_index(drop=True)"
   ]
  },
  {
   "cell_type": "code",
   "execution_count": 10,
   "id": "da39423c",
   "metadata": {
    "execution": {
     "iopub.execute_input": "2022-01-11T14:27:58.683569Z",
     "iopub.status.busy": "2022-01-11T14:27:58.682563Z",
     "iopub.status.idle": "2022-01-11T14:27:58.688869Z",
     "shell.execute_reply": "2022-01-11T14:27:58.689356Z",
     "shell.execute_reply.started": "2022-01-05T10:51:38.163089Z"
    },
    "papermill": {
     "duration": 0.042759,
     "end_time": "2022-01-11T14:27:58.689531",
     "exception": false,
     "start_time": "2022-01-11T14:27:58.646772",
     "status": "completed"
    },
    "tags": []
   },
   "outputs": [],
   "source": [
    "test_data, valid_data = train_test_split(test_valid_data, test_size=0.5, random_state = 42,\n",
    "                                         shuffle=True, stratify=test_valid_data['category'])\n",
    "test_data = test_data.reset_index(drop=True)\n",
    "valid_data = valid_data.reset_index(drop=True)"
   ]
  },
  {
   "cell_type": "markdown",
   "id": "c665d8dc",
   "metadata": {
    "papermill": {
     "duration": 0.028015,
     "end_time": "2022-01-11T14:27:58.745567",
     "exception": false,
     "start_time": "2022-01-11T14:27:58.717552",
     "status": "completed"
    },
    "tags": []
   },
   "source": [
    "## Data Augmentation"
   ]
  },
  {
   "cell_type": "code",
   "execution_count": 11,
   "id": "4ba1c18f",
   "metadata": {
    "execution": {
     "iopub.execute_input": "2022-01-11T14:27:58.808058Z",
     "iopub.status.busy": "2022-01-11T14:27:58.806946Z",
     "iopub.status.idle": "2022-01-11T14:27:58.809378Z",
     "shell.execute_reply": "2022-01-11T14:27:58.810083Z",
     "shell.execute_reply.started": "2022-01-05T10:51:38.18358Z"
    },
    "papermill": {
     "duration": 0.036111,
     "end_time": "2022-01-11T14:27:58.810263",
     "exception": false,
     "start_time": "2022-01-11T14:27:58.774152",
     "status": "completed"
    },
    "tags": []
   },
   "outputs": [],
   "source": [
    "train_data_gen = ImageDataGenerator(\n",
    "    rotation_range=15,\n",
    "    rescale=1./255,\n",
    "    shear_range=0.1,\n",
    "    zoom_range=0.2,\n",
    "    horizontal_flip=True,\n",
    "    width_shift_range=0.1,\n",
    "    height_shift_range=0.1\n",
    ")"
   ]
  },
  {
   "cell_type": "code",
   "execution_count": 12,
   "id": "4bc47c5c",
   "metadata": {
    "execution": {
     "iopub.execute_input": "2022-01-11T14:27:58.873040Z",
     "iopub.status.busy": "2022-01-11T14:27:58.871902Z",
     "iopub.status.idle": "2022-01-11T14:28:09.741908Z",
     "shell.execute_reply": "2022-01-11T14:28:09.743776Z",
     "shell.execute_reply.started": "2022-01-05T10:51:38.193218Z"
    },
    "papermill": {
     "duration": 10.906015,
     "end_time": "2022-01-11T14:28:09.744042",
     "exception": false,
     "start_time": "2022-01-11T14:27:58.838027",
     "status": "completed"
    },
    "tags": []
   },
   "outputs": [
    {
     "name": "stdout",
     "output_type": "stream",
     "text": [
      "Found 7968 validated image filenames belonging to 3 classes.\n"
     ]
    }
   ],
   "source": [
    "train_generator = train_data_gen.flow_from_dataframe(\n",
    "    train_data, \n",
    "    x_col='filename',\n",
    "    y_col='category',\n",
    "    target_size=(224,224),\n",
    "    class_mode='categorical',\n",
    "    batch_size=15\n",
    ")"
   ]
  },
  {
   "cell_type": "code",
   "execution_count": 13,
   "id": "8379a4d5",
   "metadata": {
    "execution": {
     "iopub.execute_input": "2022-01-11T14:28:09.846723Z",
     "iopub.status.busy": "2022-01-11T14:28:09.845807Z",
     "iopub.status.idle": "2022-01-11T14:28:11.195827Z",
     "shell.execute_reply": "2022-01-11T14:28:11.197366Z",
     "shell.execute_reply.started": "2022-01-05T10:51:40.96467Z"
    },
    "papermill": {
     "duration": 1.406776,
     "end_time": "2022-01-11T14:28:11.197692",
     "exception": false,
     "start_time": "2022-01-11T14:28:09.790916",
     "status": "completed"
    },
    "tags": []
   },
   "outputs": [
    {
     "name": "stdout",
     "output_type": "stream",
     "text": [
      "Found 997 validated image filenames belonging to 3 classes.\n"
     ]
    }
   ],
   "source": [
    "valid_data_gen = ImageDataGenerator(rescale=1./255)\n",
    "\n",
    "valid_generator = valid_data_gen.flow_from_dataframe(\n",
    "    valid_data, \n",
    "    x_col='filename',\n",
    "    y_col='category',\n",
    "    target_size=(224,224),\n",
    "    class_mode='categorical',\n",
    "    batch_size=15\n",
    ")"
   ]
  },
  {
   "cell_type": "markdown",
   "id": "474f7f48",
   "metadata": {
    "papermill": {
     "duration": 0.051838,
     "end_time": "2022-01-11T14:28:11.303226",
     "exception": false,
     "start_time": "2022-01-11T14:28:11.251388",
     "status": "completed"
    },
    "tags": []
   },
   "source": [
    "## Model Training - VGG16"
   ]
  },
  {
   "cell_type": "markdown",
   "id": "44486197",
   "metadata": {
    "papermill": {
     "duration": 0.048094,
     "end_time": "2022-01-11T14:28:11.402601",
     "exception": false,
     "start_time": "2022-01-11T14:28:11.354507",
     "status": "completed"
    },
    "tags": []
   },
   "source": [
    "#### Model Architecture"
   ]
  },
  {
   "cell_type": "code",
   "execution_count": 14,
   "id": "a9f13db5",
   "metadata": {
    "execution": {
     "iopub.execute_input": "2022-01-11T14:28:11.469942Z",
     "iopub.status.busy": "2022-01-11T14:28:11.468755Z",
     "iopub.status.idle": "2022-01-11T14:28:15.586476Z",
     "shell.execute_reply": "2022-01-11T14:28:15.585782Z",
     "shell.execute_reply.started": "2022-01-05T10:51:41.328856Z"
    },
    "papermill": {
     "duration": 4.155224,
     "end_time": "2022-01-11T14:28:15.586641",
     "exception": false,
     "start_time": "2022-01-11T14:28:11.431417",
     "status": "completed"
    },
    "tags": []
   },
   "outputs": [
    {
     "name": "stderr",
     "output_type": "stream",
     "text": [
      "2022-01-11 14:28:11.562510: I tensorflow/stream_executor/cuda/cuda_gpu_executor.cc:937] successful NUMA node read from SysFS had negative value (-1), but there must be at least one NUMA node, so returning NUMA node zero\n",
      "2022-01-11 14:28:11.700627: I tensorflow/stream_executor/cuda/cuda_gpu_executor.cc:937] successful NUMA node read from SysFS had negative value (-1), but there must be at least one NUMA node, so returning NUMA node zero\n",
      "2022-01-11 14:28:11.701677: I tensorflow/stream_executor/cuda/cuda_gpu_executor.cc:937] successful NUMA node read from SysFS had negative value (-1), but there must be at least one NUMA node, so returning NUMA node zero\n",
      "2022-01-11 14:28:11.703212: I tensorflow/core/platform/cpu_feature_guard.cc:142] This TensorFlow binary is optimized with oneAPI Deep Neural Network Library (oneDNN) to use the following CPU instructions in performance-critical operations:  AVX2 FMA\n",
      "To enable them in other operations, rebuild TensorFlow with the appropriate compiler flags.\n",
      "2022-01-11 14:28:11.704519: I tensorflow/stream_executor/cuda/cuda_gpu_executor.cc:937] successful NUMA node read from SysFS had negative value (-1), but there must be at least one NUMA node, so returning NUMA node zero\n",
      "2022-01-11 14:28:11.705567: I tensorflow/stream_executor/cuda/cuda_gpu_executor.cc:937] successful NUMA node read from SysFS had negative value (-1), but there must be at least one NUMA node, so returning NUMA node zero\n",
      "2022-01-11 14:28:11.706499: I tensorflow/stream_executor/cuda/cuda_gpu_executor.cc:937] successful NUMA node read from SysFS had negative value (-1), but there must be at least one NUMA node, so returning NUMA node zero\n",
      "2022-01-11 14:28:14.111044: I tensorflow/stream_executor/cuda/cuda_gpu_executor.cc:937] successful NUMA node read from SysFS had negative value (-1), but there must be at least one NUMA node, so returning NUMA node zero\n",
      "2022-01-11 14:28:14.112109: I tensorflow/stream_executor/cuda/cuda_gpu_executor.cc:937] successful NUMA node read from SysFS had negative value (-1), but there must be at least one NUMA node, so returning NUMA node zero\n",
      "2022-01-11 14:28:14.113133: I tensorflow/stream_executor/cuda/cuda_gpu_executor.cc:937] successful NUMA node read from SysFS had negative value (-1), but there must be at least one NUMA node, so returning NUMA node zero\n",
      "2022-01-11 14:28:14.114104: I tensorflow/core/common_runtime/gpu/gpu_device.cc:1510] Created device /job:localhost/replica:0/task:0/device:GPU:0 with 15403 MB memory:  -> device: 0, name: Tesla P100-PCIE-16GB, pci bus id: 0000:00:04.0, compute capability: 6.0\n"
     ]
    },
    {
     "name": "stdout",
     "output_type": "stream",
     "text": [
      "Downloading data from https://storage.googleapis.com/tensorflow/keras-applications/vgg16/vgg16_weights_tf_dim_ordering_tf_kernels_notop.h5\n",
      "58892288/58889256 [==============================] - 1s 0us/step\n",
      "58900480/58889256 [==============================] - 1s 0us/step\n"
     ]
    }
   ],
   "source": [
    "baseModel = VGG16(input_shape=(224,224,3), weights='imagenet', include_top=False)\n",
    "\n",
    "for layer in baseModel.layers:\n",
    "    layer.trainable = False\n",
    "\n",
    "headModel = baseModel.output\n",
    "headModel = AveragePooling2D()(headModel)\n",
    "headModel = Flatten()(headModel)\n",
    "headModel = Dense(128, activation=\"relu\")(headModel)\n",
    "headModel = Dropout(0.2)(headModel)\n",
    "headModel = Dense(3, activation='softmax')(headModel)\n",
    "\n",
    "model = Model(inputs=baseModel.input, outputs=headModel)"
   ]
  },
  {
   "cell_type": "markdown",
   "id": "1e89c33e",
   "metadata": {
    "papermill": {
     "duration": 0.036453,
     "end_time": "2022-01-11T14:28:15.659063",
     "exception": false,
     "start_time": "2022-01-11T14:28:15.622610",
     "status": "completed"
    },
    "tags": []
   },
   "source": [
    "#### Model Summary"
   ]
  },
  {
   "cell_type": "code",
   "execution_count": 15,
   "id": "0343df63",
   "metadata": {
    "execution": {
     "iopub.execute_input": "2022-01-11T14:28:15.740729Z",
     "iopub.status.busy": "2022-01-11T14:28:15.736097Z",
     "iopub.status.idle": "2022-01-11T14:28:15.753185Z",
     "shell.execute_reply": "2022-01-11T14:28:15.752358Z",
     "shell.execute_reply.started": "2022-01-05T10:51:41.633927Z"
    },
    "papermill": {
     "duration": 0.058846,
     "end_time": "2022-01-11T14:28:15.753338",
     "exception": false,
     "start_time": "2022-01-11T14:28:15.694492",
     "status": "completed"
    },
    "tags": []
   },
   "outputs": [
    {
     "name": "stdout",
     "output_type": "stream",
     "text": [
      "Model: \"model\"\n",
      "_________________________________________________________________\n",
      "Layer (type)                 Output Shape              Param #   \n",
      "=================================================================\n",
      "input_1 (InputLayer)         [(None, 224, 224, 3)]     0         \n",
      "_________________________________________________________________\n",
      "block1_conv1 (Conv2D)        (None, 224, 224, 64)      1792      \n",
      "_________________________________________________________________\n",
      "block1_conv2 (Conv2D)        (None, 224, 224, 64)      36928     \n",
      "_________________________________________________________________\n",
      "block1_pool (MaxPooling2D)   (None, 112, 112, 64)      0         \n",
      "_________________________________________________________________\n",
      "block2_conv1 (Conv2D)        (None, 112, 112, 128)     73856     \n",
      "_________________________________________________________________\n",
      "block2_conv2 (Conv2D)        (None, 112, 112, 128)     147584    \n",
      "_________________________________________________________________\n",
      "block2_pool (MaxPooling2D)   (None, 56, 56, 128)       0         \n",
      "_________________________________________________________________\n",
      "block3_conv1 (Conv2D)        (None, 56, 56, 256)       295168    \n",
      "_________________________________________________________________\n",
      "block3_conv2 (Conv2D)        (None, 56, 56, 256)       590080    \n",
      "_________________________________________________________________\n",
      "block3_conv3 (Conv2D)        (None, 56, 56, 256)       590080    \n",
      "_________________________________________________________________\n",
      "block3_pool (MaxPooling2D)   (None, 28, 28, 256)       0         \n",
      "_________________________________________________________________\n",
      "block4_conv1 (Conv2D)        (None, 28, 28, 512)       1180160   \n",
      "_________________________________________________________________\n",
      "block4_conv2 (Conv2D)        (None, 28, 28, 512)       2359808   \n",
      "_________________________________________________________________\n",
      "block4_conv3 (Conv2D)        (None, 28, 28, 512)       2359808   \n",
      "_________________________________________________________________\n",
      "block4_pool (MaxPooling2D)   (None, 14, 14, 512)       0         \n",
      "_________________________________________________________________\n",
      "block5_conv1 (Conv2D)        (None, 14, 14, 512)       2359808   \n",
      "_________________________________________________________________\n",
      "block5_conv2 (Conv2D)        (None, 14, 14, 512)       2359808   \n",
      "_________________________________________________________________\n",
      "block5_conv3 (Conv2D)        (None, 14, 14, 512)       2359808   \n",
      "_________________________________________________________________\n",
      "block5_pool (MaxPooling2D)   (None, 7, 7, 512)         0         \n",
      "_________________________________________________________________\n",
      "average_pooling2d (AveragePo (None, 3, 3, 512)         0         \n",
      "_________________________________________________________________\n",
      "flatten (Flatten)            (None, 4608)              0         \n",
      "_________________________________________________________________\n",
      "dense (Dense)                (None, 128)               589952    \n",
      "_________________________________________________________________\n",
      "dropout (Dropout)            (None, 128)               0         \n",
      "_________________________________________________________________\n",
      "dense_1 (Dense)              (None, 3)                 387       \n",
      "=================================================================\n",
      "Total params: 15,305,027\n",
      "Trainable params: 590,339\n",
      "Non-trainable params: 14,714,688\n",
      "_________________________________________________________________\n"
     ]
    }
   ],
   "source": [
    "model.summary()"
   ]
  },
  {
   "cell_type": "markdown",
   "id": "884ffbd6",
   "metadata": {
    "papermill": {
     "duration": 0.035058,
     "end_time": "2022-01-11T14:28:15.824079",
     "exception": false,
     "start_time": "2022-01-11T14:28:15.789021",
     "status": "completed"
    },
    "tags": []
   },
   "source": [
    "#### Optimizer - Adam"
   ]
  },
  {
   "cell_type": "code",
   "execution_count": 16,
   "id": "bb3e9d2e",
   "metadata": {
    "execution": {
     "iopub.execute_input": "2022-01-11T14:28:15.905639Z",
     "iopub.status.busy": "2022-01-11T14:28:15.904999Z",
     "iopub.status.idle": "2022-01-11T14:28:15.916034Z",
     "shell.execute_reply": "2022-01-11T14:28:15.915371Z",
     "shell.execute_reply.started": "2022-01-05T10:51:41.655193Z"
    },
    "papermill": {
     "duration": 0.055639,
     "end_time": "2022-01-11T14:28:15.916181",
     "exception": false,
     "start_time": "2022-01-11T14:28:15.860542",
     "status": "completed"
    },
    "tags": []
   },
   "outputs": [],
   "source": [
    "opt = Adam(learning_rate=0.0001)\n",
    "model.compile(optimizer=opt, loss='categorical_crossentropy', metrics=['accuracy'])"
   ]
  },
  {
   "cell_type": "code",
   "execution_count": 17,
   "id": "38824c3c",
   "metadata": {
    "execution": {
     "iopub.execute_input": "2022-01-11T14:28:15.995064Z",
     "iopub.status.busy": "2022-01-11T14:28:15.994085Z",
     "iopub.status.idle": "2022-01-11T16:13:36.769144Z",
     "shell.execute_reply": "2022-01-11T16:13:36.769818Z",
     "shell.execute_reply.started": "2022-01-05T10:51:47.909957Z"
    },
    "papermill": {
     "duration": 6320.818103,
     "end_time": "2022-01-11T16:13:36.770021",
     "exception": false,
     "start_time": "2022-01-11T14:28:15.951918",
     "status": "completed"
    },
    "tags": []
   },
   "outputs": [
    {
     "name": "stderr",
     "output_type": "stream",
     "text": [
      "2022-01-11 14:28:16.364929: I tensorflow/compiler/mlir/mlir_graph_optimization_pass.cc:185] None of the MLIR Optimization Passes are enabled (registered 2)\n"
     ]
    },
    {
     "name": "stdout",
     "output_type": "stream",
     "text": [
      "Epoch 1/50\n"
     ]
    },
    {
     "name": "stderr",
     "output_type": "stream",
     "text": [
      "2022-01-11 14:28:18.483539: I tensorflow/stream_executor/cuda/cuda_dnn.cc:369] Loaded cuDNN version 8005\n"
     ]
    },
    {
     "name": "stdout",
     "output_type": "stream",
     "text": [
      "532/532 [==============================] - 165s 294ms/step - loss: 0.6224 - accuracy: 0.7408 - val_loss: 0.4715 - val_accuracy: 0.7944\n",
      "Epoch 2/50\n",
      "532/532 [==============================] - 116s 218ms/step - loss: 0.4397 - accuracy: 0.8248 - val_loss: 0.3470 - val_accuracy: 0.8616\n",
      "Epoch 3/50\n",
      "532/532 [==============================] - 116s 218ms/step - loss: 0.3825 - accuracy: 0.8454 - val_loss: 0.3755 - val_accuracy: 0.8395\n",
      "Epoch 4/50\n",
      "532/532 [==============================] - 118s 222ms/step - loss: 0.3427 - accuracy: 0.8609 - val_loss: 0.3678 - val_accuracy: 0.8465\n",
      "Epoch 5/50\n",
      "532/532 [==============================] - 117s 221ms/step - loss: 0.3280 - accuracy: 0.8687 - val_loss: 0.2663 - val_accuracy: 0.8957\n",
      "Epoch 6/50\n",
      "532/532 [==============================] - 118s 221ms/step - loss: 0.3097 - accuracy: 0.8756 - val_loss: 0.2974 - val_accuracy: 0.8766\n",
      "Epoch 7/50\n",
      "532/532 [==============================] - 119s 223ms/step - loss: 0.2987 - accuracy: 0.8813 - val_loss: 0.2362 - val_accuracy: 0.9007\n",
      "Epoch 8/50\n",
      "532/532 [==============================] - 120s 225ms/step - loss: 0.2882 - accuracy: 0.8847 - val_loss: 0.2393 - val_accuracy: 0.8967\n",
      "Epoch 9/50\n",
      "532/532 [==============================] - 119s 224ms/step - loss: 0.2783 - accuracy: 0.8923 - val_loss: 0.2294 - val_accuracy: 0.9037\n",
      "Epoch 10/50\n",
      "532/532 [==============================] - 122s 229ms/step - loss: 0.2793 - accuracy: 0.8849 - val_loss: 0.2487 - val_accuracy: 0.8907\n",
      "Epoch 11/50\n",
      "532/532 [==============================] - 120s 226ms/step - loss: 0.2669 - accuracy: 0.8970 - val_loss: 0.2467 - val_accuracy: 0.9027\n",
      "Epoch 12/50\n",
      "532/532 [==============================] - 123s 231ms/step - loss: 0.2669 - accuracy: 0.8921 - val_loss: 0.2462 - val_accuracy: 0.8947\n",
      "Epoch 13/50\n",
      "532/532 [==============================] - 123s 232ms/step - loss: 0.2535 - accuracy: 0.9015 - val_loss: 0.2206 - val_accuracy: 0.9168\n",
      "Epoch 14/50\n",
      "532/532 [==============================] - 123s 231ms/step - loss: 0.2418 - accuracy: 0.9017 - val_loss: 0.2385 - val_accuracy: 0.8987\n",
      "Epoch 15/50\n",
      "532/532 [==============================] - 124s 233ms/step - loss: 0.2473 - accuracy: 0.9010 - val_loss: 0.2089 - val_accuracy: 0.9117\n",
      "Epoch 16/50\n",
      "532/532 [==============================] - 122s 229ms/step - loss: 0.2525 - accuracy: 0.8962 - val_loss: 0.2191 - val_accuracy: 0.9077\n",
      "Epoch 17/50\n",
      "532/532 [==============================] - 126s 236ms/step - loss: 0.2337 - accuracy: 0.9105 - val_loss: 0.2132 - val_accuracy: 0.9178\n",
      "Epoch 18/50\n",
      "532/532 [==============================] - 123s 231ms/step - loss: 0.2287 - accuracy: 0.9106 - val_loss: 0.2334 - val_accuracy: 0.9007\n",
      "Epoch 19/50\n",
      "532/532 [==============================] - 125s 235ms/step - loss: 0.2348 - accuracy: 0.9078 - val_loss: 0.2181 - val_accuracy: 0.9107\n",
      "Epoch 20/50\n",
      "532/532 [==============================] - 125s 235ms/step - loss: 0.2323 - accuracy: 0.9098 - val_loss: 0.1964 - val_accuracy: 0.9228\n",
      "Epoch 21/50\n",
      "532/532 [==============================] - 127s 239ms/step - loss: 0.2278 - accuracy: 0.9127 - val_loss: 0.1829 - val_accuracy: 0.9328\n",
      "Epoch 22/50\n",
      "532/532 [==============================] - 119s 224ms/step - loss: 0.2244 - accuracy: 0.9143 - val_loss: 0.2000 - val_accuracy: 0.9238\n",
      "Epoch 23/50\n",
      "532/532 [==============================] - 121s 228ms/step - loss: 0.2214 - accuracy: 0.9133 - val_loss: 0.1849 - val_accuracy: 0.9258\n",
      "Epoch 24/50\n",
      "532/532 [==============================] - 122s 229ms/step - loss: 0.2169 - accuracy: 0.9148 - val_loss: 0.1937 - val_accuracy: 0.9198\n",
      "Epoch 25/50\n",
      "532/532 [==============================] - 123s 232ms/step - loss: 0.2102 - accuracy: 0.9139 - val_loss: 0.1586 - val_accuracy: 0.9428\n",
      "Epoch 26/50\n",
      "532/532 [==============================] - 124s 232ms/step - loss: 0.2166 - accuracy: 0.9121 - val_loss: 0.1660 - val_accuracy: 0.9398\n",
      "Epoch 27/50\n",
      "532/532 [==============================] - 121s 227ms/step - loss: 0.2063 - accuracy: 0.9194 - val_loss: 0.2175 - val_accuracy: 0.9077\n",
      "Epoch 28/50\n",
      "532/532 [==============================] - 126s 236ms/step - loss: 0.2006 - accuracy: 0.9219 - val_loss: 0.1513 - val_accuracy: 0.9428\n",
      "Epoch 29/50\n",
      "532/532 [==============================] - 125s 236ms/step - loss: 0.2058 - accuracy: 0.9187 - val_loss: 0.2073 - val_accuracy: 0.9107\n",
      "Epoch 30/50\n",
      "532/532 [==============================] - 126s 236ms/step - loss: 0.2063 - accuracy: 0.9214 - val_loss: 0.1777 - val_accuracy: 0.9268\n",
      "Epoch 31/50\n",
      "532/532 [==============================] - 122s 229ms/step - loss: 0.1974 - accuracy: 0.9249 - val_loss: 0.1587 - val_accuracy: 0.9388\n",
      "Epoch 32/50\n",
      "532/532 [==============================] - 124s 233ms/step - loss: 0.1942 - accuracy: 0.9236 - val_loss: 0.1791 - val_accuracy: 0.9278\n",
      "Epoch 33/50\n",
      "532/532 [==============================] - 124s 232ms/step - loss: 0.1996 - accuracy: 0.9211 - val_loss: 0.2117 - val_accuracy: 0.9107\n",
      "Epoch 34/50\n",
      "532/532 [==============================] - 123s 232ms/step - loss: 0.1857 - accuracy: 0.9301 - val_loss: 0.1687 - val_accuracy: 0.9338\n",
      "Epoch 35/50\n",
      "532/532 [==============================] - 126s 237ms/step - loss: 0.1910 - accuracy: 0.9246 - val_loss: 0.1576 - val_accuracy: 0.9378\n",
      "Epoch 36/50\n",
      "532/532 [==============================] - 127s 238ms/step - loss: 0.1855 - accuracy: 0.9296 - val_loss: 0.1435 - val_accuracy: 0.9468\n",
      "Epoch 37/50\n",
      "532/532 [==============================] - 127s 239ms/step - loss: 0.1801 - accuracy: 0.9300 - val_loss: 0.1335 - val_accuracy: 0.9519\n",
      "Epoch 38/50\n",
      "532/532 [==============================] - 125s 235ms/step - loss: 0.1826 - accuracy: 0.9273 - val_loss: 0.1330 - val_accuracy: 0.9488\n",
      "Epoch 39/50\n",
      "532/532 [==============================] - 126s 236ms/step - loss: 0.1787 - accuracy: 0.9315 - val_loss: 0.1649 - val_accuracy: 0.9308\n",
      "Epoch 40/50\n",
      "532/532 [==============================] - 128s 241ms/step - loss: 0.1840 - accuracy: 0.9283 - val_loss: 0.1796 - val_accuracy: 0.9208\n",
      "Epoch 41/50\n",
      "532/532 [==============================] - 129s 243ms/step - loss: 0.1856 - accuracy: 0.9261 - val_loss: 0.1436 - val_accuracy: 0.9418\n",
      "Epoch 42/50\n",
      "532/532 [==============================] - 123s 231ms/step - loss: 0.1762 - accuracy: 0.9298 - val_loss: 0.1438 - val_accuracy: 0.9378\n",
      "Epoch 43/50\n",
      "532/532 [==============================] - 129s 242ms/step - loss: 0.1712 - accuracy: 0.9356 - val_loss: 0.1207 - val_accuracy: 0.9559\n",
      "Epoch 44/50\n",
      "532/532 [==============================] - 130s 245ms/step - loss: 0.1721 - accuracy: 0.9349 - val_loss: 0.1378 - val_accuracy: 0.9418\n",
      "Epoch 45/50\n",
      "532/532 [==============================] - 130s 245ms/step - loss: 0.1729 - accuracy: 0.9292 - val_loss: 0.1506 - val_accuracy: 0.9468\n",
      "Epoch 46/50\n",
      "532/532 [==============================] - 116s 219ms/step - loss: 0.1704 - accuracy: 0.9322 - val_loss: 0.1299 - val_accuracy: 0.9519\n",
      "Epoch 47/50\n",
      "532/532 [==============================] - 126s 237ms/step - loss: 0.1688 - accuracy: 0.9342 - val_loss: 0.1831 - val_accuracy: 0.9178\n",
      "Epoch 48/50\n",
      "532/532 [==============================] - 127s 239ms/step - loss: 0.1679 - accuracy: 0.9361 - val_loss: 0.1423 - val_accuracy: 0.9408\n",
      "Epoch 49/50\n",
      "532/532 [==============================] - 128s 240ms/step - loss: 0.1690 - accuracy: 0.9337 - val_loss: 0.1493 - val_accuracy: 0.9368\n",
      "Epoch 50/50\n",
      "532/532 [==============================] - 127s 239ms/step - loss: 0.1755 - accuracy: 0.9324 - val_loss: 0.1445 - val_accuracy: 0.9478\n"
     ]
    }
   ],
   "source": [
    "epochs = 50\n",
    "history = model.fit_generator(train_generator,\n",
    "                              validation_data=valid_generator, verbose=1, epochs=epochs)"
   ]
  },
  {
   "cell_type": "markdown",
   "id": "f7f1efa3",
   "metadata": {
    "papermill": {
     "duration": 9.336339,
     "end_time": "2022-01-11T16:13:55.353510",
     "exception": false,
     "start_time": "2022-01-11T16:13:46.017171",
     "status": "completed"
    },
    "tags": []
   },
   "source": [
    "## Saving Model"
   ]
  },
  {
   "cell_type": "code",
   "execution_count": 18,
   "id": "855cc9f7",
   "metadata": {
    "execution": {
     "iopub.execute_input": "2022-01-11T16:14:14.796811Z",
     "iopub.status.busy": "2022-01-11T16:14:14.790427Z",
     "iopub.status.idle": "2022-01-11T16:14:14.947248Z",
     "shell.execute_reply": "2022-01-11T16:14:14.946626Z"
    },
    "papermill": {
     "duration": 9.541278,
     "end_time": "2022-01-11T16:14:14.947400",
     "exception": false,
     "start_time": "2022-01-11T16:14:05.406122",
     "status": "completed"
    },
    "tags": []
   },
   "outputs": [],
   "source": [
    "model.save('Covid.h5')"
   ]
  },
  {
   "cell_type": "markdown",
   "id": "f972208c",
   "metadata": {
    "papermill": {
     "duration": 9.364666,
     "end_time": "2022-01-11T16:14:33.658559",
     "exception": false,
     "start_time": "2022-01-11T16:14:24.293893",
     "status": "completed"
    },
    "tags": []
   },
   "source": [
    "## Plotting \n",
    "* Training & Validation Loss\n",
    "* Training & Validation Loss"
   ]
  },
  {
   "cell_type": "code",
   "execution_count": 19,
   "id": "3c06dfda",
   "metadata": {
    "execution": {
     "iopub.execute_input": "2022-01-11T16:14:52.855922Z",
     "iopub.status.busy": "2022-01-11T16:14:52.852223Z",
     "iopub.status.idle": "2022-01-11T16:14:54.944688Z",
     "shell.execute_reply": "2022-01-11T16:14:54.944068Z",
     "shell.execute_reply.started": "2022-01-05T10:57:03.001374Z"
    },
    "papermill": {
     "duration": 11.203923,
     "end_time": "2022-01-11T16:14:54.944838",
     "exception": false,
     "start_time": "2022-01-11T16:14:43.740915",
     "status": "completed"
    },
    "tags": []
   },
   "outputs": [
    {
     "data": {
      "image/png": "[encoded data removed]",
      "text/plain": [
       "<Figure size 864x864 with 2 Axes>"
      ]
     },
     "metadata": {},
     "output_type": "display_data"
    }
   ],
   "source": [
    "fig, (ax1, ax2) = plt.subplots(2, 1, figsize=(12, 12))\n",
    "ax1.plot(history.history['loss'], color='b', label=\"Training loss\")\n",
    "ax1.plot(history.history['val_loss'], color='r', label=\"validation loss\")\n",
    "ax1.set_xticks(np.arange(1, epochs, 1))\n",
    "ax1.set_yticks(np.arange(0, 1, 0.1))\n",
    "\n",
    "ax2.plot(history.history['accuracy'], color='b', label=\"Training accuracy\")\n",
    "ax2.plot(history.history['val_accuracy'], color='r',label=\"Validation accuracy\")\n",
    "ax2.set_xticks(np.arange(1, epochs, 1))\n",
    "\n",
    "legend = plt.legend(loc='best', shadow=True)\n",
    "plt.tight_layout()\n",
    "plt.show()"
   ]
  },
  {
   "cell_type": "markdown",
   "id": "9ecf0ab7",
   "metadata": {
    "papermill": {
     "duration": 9.902738,
     "end_time": "2022-01-11T16:15:14.192936",
     "exception": false,
     "start_time": "2022-01-11T16:15:04.290198",
     "status": "completed"
    },
    "tags": []
   },
   "source": [
    "## Model Testing"
   ]
  },
  {
   "cell_type": "code",
   "execution_count": 20,
   "id": "b4f7b7e2",
   "metadata": {
    "execution": {
     "iopub.execute_input": "2022-01-11T16:15:32.971111Z",
     "iopub.status.busy": "2022-01-11T16:15:32.970406Z",
     "iopub.status.idle": "2022-01-11T16:15:33.812464Z",
     "shell.execute_reply": "2022-01-11T16:15:33.811437Z"
    },
    "papermill": {
     "duration": 10.24011,
     "end_time": "2022-01-11T16:15:33.812603",
     "exception": false,
     "start_time": "2022-01-11T16:15:23.572493",
     "status": "completed"
    },
    "tags": []
   },
   "outputs": [
    {
     "name": "stdout",
     "output_type": "stream",
     "text": [
      "True value is : Normal\n",
      "Prediction is:\n",
      "Viral Pneumonia\n"
     ]
    },
    {
     "data": {
      "text/plain": [
       "<matplotlib.image.AxesImage at 0x7fd4b8f87110>"
      ]
     },
     "execution_count": 20,
     "metadata": {},
     "output_type": "execute_result"
    },
    {
     "data": {
      "image/png": "[encoded data removed]",
      "text/plain": [
       "<Figure size 432x288 with 1 Axes>"
      ]
     },
     "metadata": {},
     "output_type": "display_data"
    }
   ],
   "source": [
    "sample = random.choice(test_data['filename'])\n",
    "\n",
    "\n",
    "category = sample.split('-')[0]\n",
    "true = ''\n",
    "if category == 'COVID':\n",
    "    true = 'COVID'\n",
    "elif category == 'Viral Pneumonia':\n",
    "    true = 'Viral Pneumonia'\n",
    "else:\n",
    "    true = 'Normal'\n",
    "\n",
    "print(f'True value is : {true}')\n",
    "    \n",
    "image = load_img(sample, target_size=(224, 224))\n",
    "img = img_to_array(image)\n",
    "img = img.reshape((1, 224, 224, 3))\n",
    "\n",
    "result = model.predict(img)\n",
    "result = np.argmax(result, axis=-1)\n",
    "print('Prediction is:')\n",
    "if result == 0:\n",
    "    print(\"Normal\")\n",
    "elif result == 1:\n",
    "    print(\"Viral Pneumonia\")\n",
    "else:\n",
    "    print(\"COVID +\")\n",
    "    \n",
    "plt.imshow(image)"
   ]
  }
 ],
 "metadata": {
  "kernelspec": {
   "display_name": "Python 3",
   "language": "python",
   "name": "python3"
  },
  "language_info": {
   "codemirror_mode": {
    "name": "ipython",
    "version": 3
   },
   "file_extension": ".py",
   "mimetype": "text/x-python",
   "name": "python",
   "nbconvert_exporter": "python",
   "pygments_lexer": "ipython3",
   "version": "3.7.12"
  },
  "papermill": {
   "default_parameters": {},
   "duration": 6488.137072,
   "end_time": "2022-01-11T16:15:47.403057",
   "environment_variables": {},
   "exception": null,
   "input_path": "__notebook__.ipynb",
   "output_path": "__notebook__.ipynb",
   "parameters": {},
   "start_time": "2022-01-11T14:27:39.265985",
   "version": "2.3.3"
  }
 },
 "nbformat": 4,
 "nbformat_minor": 5
}
